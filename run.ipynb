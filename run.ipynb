{
 "cells": [
  {
   "cell_type": "code",
   "execution_count": null,
   "metadata": {},
   "outputs": [],
   "source": [
    "%load_ext autoreload\n",
    "%autoreload 2\n",
    "\n",
    "import PIL\n",
    "from PIL import Image\n",
    "import numpy as np\n",
    "import glob\n",
    "import skimage\n",
    "import os\n",
    "os.environ['CUDA_VISIBLE_DEVICES'] = '3'\n",
    "from tqdm import tqdm\n",
    "\n",
    "from utils.segmentation import Segmentation\n",
    "from utils.bg_fg_prep import saliency_detect\n",
    "from utils.image_io import *\n",
    "\n",
    "\n",
    "from skimage.filters import threshold_li, threshold_mean\n",
    "from skimage.morphology import disk\n",
    "from skimage.morphology import erosion, dilation, opening, closing, skeletonize\n"
   ]
  },
  {
   "cell_type": "code",
   "execution_count": null,
   "metadata": {},
   "outputs": [],
   "source": [
    "def empty_dir(folder):\n",
    "    for the_file in os.listdir(folder):\n",
    "        file_path = os.path.join(folder, the_file)\n",
    "        try:\n",
    "            if os.path.isfile(file_path):\n",
    "                os.unlink(file_path)\n",
    "            elif os.path.isdir(file_path): shutil.rmtree(file_path)\n",
    "        except Exception as e:\n",
    "            print(e)\n",
    "    print('empty directory: ', folder)\n"
   ]
  },
  {
   "cell_type": "markdown",
   "metadata": {},
   "source": [
    "### CELL"
   ]
  },
  {
   "cell_type": "code",
   "execution_count": null,
   "metadata": {},
   "outputs": [],
   "source": [
    "folder_name = 'FISH'"
   ]
  },
  {
   "cell_type": "markdown",
   "metadata": {},
   "source": [
    "#### Utils Functions\n",
    "- change image into three channel\n",
    "- get hints"
   ]
  },
  {
   "cell_type": "code",
   "execution_count": null,
   "metadata": {},
   "outputs": [],
   "source": [
    "# transform cell images into three channel\n",
    "# from images_1 to images\n",
    "\n",
    "for img in tqdm(glob.glob('data/'+ folder_name + '/images_1/*.png')):\n",
    "    image = Image.open(img)\n",
    "    image = pil_to_np(image)\n",
    "    image_s = image.squeeze()\n",
    "    tmp_image = skimage.color.gray2rgb(image_s)\n",
    "    tmp_image = tmp_image.transpose(2, 0, 1)\n",
    "    tmp_image = np_to_pil(tmp_image)\n",
    "    \n",
    "    os.makedirs('data/'+ folder_name + '/images/', exist_ok=True)\n",
    "    name_list = img.split('/')\n",
    "    save_path = 'data/'+ folder_name + '/images/' + name_list[-1]\n",
    "    tmp_image.save(save_path)\n",
    "    "
   ]
  },
  {
   "cell_type": "code",
   "execution_count": null,
   "metadata": {},
   "outputs": [],
   "source": [
    "def process_img(img):\n",
    "    thresh = threshold_mean(img)\n",
    "\n",
    "    binary = img > thresh\n",
    "    binary_small = closing(binary, disk(3))\n",
    "    binary_new = dilation(binary_small, disk(4))\n",
    "    \n",
    "    return binary_new\n",
    "\n",
    "def get_bg(img):\n",
    "    thresh = threshold_li(img)\n",
    "    binary = img <= thresh\n",
    "    binary_ero = skimage.morphology.dilation(binary, disk(5))\n",
    "    return binary_ero\n",
    "\n",
    "def get_bg_from_annot(annot):\n",
    "    annot_ero = erosion(annot, disk(3))\n",
    "    annot_ero = annot\n",
    "    buffer = np.zeros(annot_ero.shape)\n",
    "    buffer[annot_ero > 0] = 0\n",
    "    buffer[annot_ero == 0] = 1 \n",
    "    \n",
    "    return buffer"
   ]
  },
  {
   "cell_type": "code",
   "execution_count": null,
   "metadata": {},
   "outputs": [],
   "source": [
    "def process_fg(img):\n",
    "    thresh = threshold_mean(img)\n",
    "    binary = img < thresh\n",
    "    binary_new = erosion(binary, disk(4))\n",
    "    return binary_new\n",
    "\n",
    "def process_bg(img):\n",
    "    thresh = threshold_mean(img)\n",
    "    binary = img > thresh\n",
    "    binary_new = erosion(binary, disk(4))\n",
    "    return binary_new"
   ]
  },
  {
   "cell_type": "code",
   "execution_count": null,
   "metadata": {},
   "outputs": [],
   "source": [
    "# saliency_detect('data/'+ folder_name + '/images/*.png', dest='data/' + folder_name,\n",
    "#                t1=115, t2=120)"
   ]
  },
  {
   "cell_type": "code",
   "execution_count": null,
   "metadata": {
    "scrolled": true
   },
   "outputs": [],
   "source": [
    "# get hints from original images\n",
    "\n",
    "dest = 'data/{}'.format(folder_name)\n",
    "os.makedirs(dest + r\"/output_fg/\", exist_ok=True)\n",
    "os.makedirs(dest + r\"/output_bg/\", exist_ok=True)\n",
    "\n",
    "folder = 'data/{0}/{1}/*.png'.format(folder_name, 'images_1')\n",
    "\n",
    "for img in tqdm(glob.glob(folder)):\n",
    "    image = skimage.io.imread(img, 0)\n",
    "    \n",
    "    image_fg = process_fg(image)\n",
    "    image_fg = skimage.img_as_ubyte(image_fg)\n",
    "    skimage.io.imsave(dest + r\"/output_fg/\" + img.split('/')[-1], image_fg)\n",
    "\n",
    "    image_bg = process_bg(image)\n",
    "    image_bg = skimage.img_as_ubyte( image_bg)  ### 1-\n",
    "    skimage.io.imsave(dest + r\"/output_bg/\" + img.split('/')[-1], image_bg)"
   ]
  },
  {
   "cell_type": "markdown",
   "metadata": {},
   "source": [
    "----------------------------\n",
    "\n",
    "Run Network"
   ]
  },
  {
   "cell_type": "code",
   "execution_count": null,
   "metadata": {},
   "outputs": [],
   "source": [
    "empty_dir('output/FISH/mask')\n",
    "empty_dir('output/FISH/fixed_mask')\n",
    "empty_dir('output/FISH/left_right')\n",
    "empty_dir('output/FISH/reconstruct')"
   ]
  },
  {
   "cell_type": "code",
   "execution_count": null,
   "metadata": {},
   "outputs": [],
   "source": [
    "\"\"\"use one channel input\n",
    "\"\"\"\n",
    "\n",
    "def run_net(img_name, output_path='output/' + folder_name):\n",
    "    image = Image.open('data/'+ folder_name + '/images_1/' + img_name)\n",
    "    image = pil_to_np(image)\n",
    "    bg_hint= Image.open('data/'+ folder_name + '/output_bg/' + img_name)\n",
    "    bg_hint= pil_to_np(bg_hint)\n",
    "    fg_hint= Image.open('data/'+ folder_name + '/output_fg/' + img_name)\n",
    "    fg_hint= pil_to_np(fg_hint)\n",
    "    \n",
    "    net = Segmentation(image_name='data/'+ folder_name + '/images_1/' + img_name, \n",
    "                       image=image, bg_hint=bg_hint, fg_hint=fg_hint,\n",
    "                       input_depth=2, output_depth=1, psnr_goal=40,\n",
    "                       output_path=output_path, show_every=500,\n",
    "                       first_step_iter_num = 2000, second_step_iter_num = 4000,\n",
    "                       plot_during_training=True)\n",
    "    \n",
    "    net.optimize()\n",
    "    net.finalize()"
   ]
  },
  {
   "cell_type": "code",
   "execution_count": null,
   "metadata": {},
   "outputs": [],
   "source": [
    "%%time\n",
    "\n",
    "run_net('0000.png')"
   ]
  },
  {
   "cell_type": "code",
   "execution_count": null,
   "metadata": {},
   "outputs": [],
   "source": [
    "cell_list = os.listdir('data/'+ folder_name + '/images_1')\n",
    "cell_list = [x for x in cell_list if x.endswith('png')]\n",
    "cell_list = sorted(cell_list)\n",
    "# cell_list"
   ]
  },
  {
   "cell_type": "code",
   "execution_count": null,
   "metadata": {},
   "outputs": [],
   "source": [
    "for c in cell_list:\n",
    "    run_net(c)"
   ]
  },
  {
   "cell_type": "code",
   "execution_count": null,
   "metadata": {},
   "outputs": [],
   "source": []
  }
 ],
 "metadata": {
  "kernelspec": {
   "display_name": "Python 3",
   "language": "python",
   "name": "python3"
  },
  "language_info": {
   "codemirror_mode": {
    "name": "ipython",
    "version": 3
   },
   "file_extension": ".py",
   "mimetype": "text/x-python",
   "name": "python",
   "nbconvert_exporter": "python",
   "pygments_lexer": "ipython3",
   "version": "3.6.9"
  }
 },
 "nbformat": 4,
 "nbformat_minor": 4
}
