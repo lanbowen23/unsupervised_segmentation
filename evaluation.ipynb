{
 "cells": [
  {
   "cell_type": "markdown",
   "metadata": {},
   "source": [
    "Calculate accuracy, IoU, Dice of the results"
   ]
  },
  {
   "cell_type": "code",
   "execution_count": 7,
   "metadata": {},
   "outputs": [],
   "source": [
    "import os\n",
    "import skimage.io\n",
    "import numpy as np\n",
    "import matplotlib.pyplot as plt\n",
    "\n",
    "def plot_two(img1, img2, name='image'):\n",
    "    fig, ax = plt.subplots(1, 2, figsize=(15,7))\n",
    "#     fig.suptitle(name)\n",
    "    ax[0].imshow(img1, cmap='gray')\n",
    "    ax[1].imshow(img2, cmap='gray')\n",
    "    ax[0].set_xticks([])\n",
    "    ax[1].set_xticks([])\n",
    "    ax[0].set_yticks([])\n",
    "    ax[1].set_yticks([])\n",
    "\n",
    "    plt.tight_layout()\n",
    "\n",
    "\n",
    "os.makedirs('data/FISH/otsu_results', exist_ok=True)"
   ]
  },
  {
   "cell_type": "code",
   "execution_count": 8,
   "metadata": {},
   "outputs": [],
   "source": [
    "img_name = 22\n",
    "# our predict results\n",
    "msk1 = skimage.io.imread('data/FISH/pred_masks/{:04d}.png'.format(img_name))\n",
    "b1 = np.zeros(msk1.shape)\n",
    "b1[msk1 > 0] = 1\n",
    "\n",
    "# matlab annotation\n",
    "msk2 = skimage.io.imread('data/FISH/raw_masks/{:04d}.png'.format(img_name))\n",
    "b2 = np.zeros(msk2.shape)\n",
    "b2[msk2 > 0] = 1\n",
    "\n",
    "#  double dip predict\n",
    "msk3 = skimage.io.imread('output/FISH/final/{:04d}.png_mask.jpg'.format(img_name))\n",
    "b3 = np.zeros(msk3.shape)\n",
    "b3[msk3 < 128] = 1\n",
    "b3[msk3 > 128] = 0"
   ]
  },
  {
   "cell_type": "code",
   "execution_count": 5,
   "metadata": {},
   "outputs": [
    {
     "data": {
      "text/plain": [
       "(0.92523193359375, 0.6932899349023536, 0.8188656926076872)"
      ]
     },
     "execution_count": 5,
     "metadata": {},
     "output_type": "execute_result"
    }
   ],
   "source": [
    "def metrics(b1, b2):\n",
    "    intersection = np.sum(b1*b2)\n",
    "    union = np.sum(b1) + np.sum(b2) - intersection\n",
    "\n",
    "    iou = (intersection+1)/(union+1)\n",
    "    # iou = (intersection)/(union)\n",
    "    dice = (2*intersection+1)/(union+intersection+1)\n",
    "    pixel_accuracy = np.sum(b1 == b2)/(512*512)\n",
    "\n",
    "#     print(\"iou:{0}, dice:{1}, pixel:{2}\".format(iou, dice, pixel_accuracy))\n",
    "    return pixel_accuracy, iou, dice\n",
    "    \n",
    "metrics(b1, b3)"
   ]
  },
  {
   "cell_type": "code",
   "execution_count": null,
   "metadata": {
    "scrolled": true
   },
   "outputs": [],
   "source": [
    "import pandas as pd\n",
    "\n",
    "results_matlab = pd.DataFrame(columns=[\"Image\", \"pixel\", \"iou\", \"dice\"])\n",
    "results_ddip = pd.DataFrame(columns=[\"Image\", \"pixel\", \"iou\", \"dice\"])\n",
    "\n",
    "for img_name in range(48):\n",
    "    msk1 = skimage.io.imread('data/FISH/raw_annotations/{:04d}.png'.format(img_name))\n",
    "    b1 = np.zeros(msk1.shape) # human label\n",
    "    b1[msk1 > 0] = 1\n",
    "\n",
    "    msk2 = skimage.io.imread('data/FISH/raw_masks/{:04d}.png'.format(img_name))\n",
    "    b2 = np.zeros(msk2.shape)  # matlab\n",
    "    b2[msk2 > 0] = 1\n",
    "\n",
    "    msk3 = skimage.io.imread('output/FISH/final/{:04d}.png_mask.jpg'.format(img_name))\n",
    "    b3 = np.zeros(msk3.shape) # ddip\n",
    "    b3[msk3 < 128] = 1\n",
    "    b3[msk3 > 128] = 0\n",
    "\n",
    "    msk4 = skimage.io.imread('data/FISH/pred_masks/{:04d}.png'.format(img_name))\n",
    "    b4 = np.zeros(msk4.shape) # my pred as gt\n",
    "    b4[msk4 > 0] = 1\n",
    "    \n",
    "    p1, i1, d1 = metrics(b4, b2)\n",
    "    res1 = {\"Image\": '{:04d}'.format(img_name), \"pixel\": p1, \"iou\": i1, \"dice\": d1}\n",
    "    row1 = len(results_matlab)\n",
    "    results_matlab.loc[row1] = res1\n",
    "    \n",
    "    p2, i2, d2 = metrics(b4, b3)\n",
    "    res2 = {\"Image\": '{:04d}'.format(img_name), \"pixel\": p2, \"iou\": i2, \"dice\": d2}\n",
    "    row2 = len(results_ddip)\n",
    "    results_ddip.loc[row2] = res2\n",
    "    \n",
    "    plot_two(b2, b3, img_name)"
   ]
  },
  {
   "cell_type": "code",
   "execution_count": 58,
   "metadata": {},
   "outputs": [
    {
     "data": {
      "text/plain": [
       "Image    2.083750e+182\n",
       "pixel     9.400000e-01\n",
       "iou       7.610000e-01\n",
       "dice      8.620000e-01\n",
       "dtype: float64"
      ]
     },
     "execution_count": 58,
     "metadata": {},
     "output_type": "execute_result"
    }
   ],
   "source": [
    "results_matlab.mean().round(3)"
   ]
  },
  {
   "cell_type": "code",
   "execution_count": 24,
   "metadata": {},
   "outputs": [
    {
     "data": {
      "text/plain": [
       "Image    2.083750e+182\n",
       "pixel     9.780000e-01\n",
       "iou       8.880000e-01\n",
       "dice      9.410000e-01\n",
       "dtype: float64"
      ]
     },
     "execution_count": 24,
     "metadata": {},
     "output_type": "execute_result"
    }
   ],
   "source": [
    "results_matlab.mean().round(3)"
   ]
  },
  {
   "cell_type": "code",
   "execution_count": 25,
   "metadata": {},
   "outputs": [
    {
     "data": {
      "text/plain": [
       "Image    2.083750e+182\n",
       "pixel     9.680000e-01\n",
       "iou       8.410000e-01\n",
       "dice      9.130000e-01\n",
       "dtype: float64"
      ]
     },
     "execution_count": 25,
     "metadata": {},
     "output_type": "execute_result"
    }
   ],
   "source": [
    "results_ddip.mean().round(3)"
   ]
  },
  {
   "cell_type": "code",
   "execution_count": null,
   "metadata": {},
   "outputs": [],
   "source": []
  }
 ],
 "metadata": {
  "kernelspec": {
   "display_name": "Python 3",
   "language": "python",
   "name": "python3"
  },
  "language_info": {
   "codemirror_mode": {
    "name": "ipython",
    "version": 3
   },
   "file_extension": ".py",
   "mimetype": "text/x-python",
   "name": "python",
   "nbconvert_exporter": "python",
   "pygments_lexer": "ipython3",
   "version": "3.6.9"
  }
 },
 "nbformat": 4,
 "nbformat_minor": 4
}
